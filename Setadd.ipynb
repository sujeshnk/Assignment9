{
  "nbformat": 4,
  "nbformat_minor": 0,
  "metadata": {
    "colab": {
      "name": "Setadd.ipynb",
      "provenance": []
    },
    "kernelspec": {
      "name": "python3",
      "display_name": "Python 3"
    },
    "language_info": {
      "name": "python"
    }
  },
  "cells": [
    {
      "cell_type": "code",
      "metadata": {
        "colab": {
          "base_uri": "https://localhost:8080/"
        },
        "id": "tGojI3rV_0cF",
        "outputId": "dc8c7540-cbdd-453e-bac5-14bccd210ca9"
      },
      "source": [
        "n={4,7,9,6}\n",
        "print(n)\n",
        "n.add(2)\n",
        "print(n)"
      ],
      "execution_count": 3,
      "outputs": [
        {
          "output_type": "stream",
          "text": [
            "{9, 4, 6, 7}\n",
            "{2, 4, 6, 7, 9}\n"
          ],
          "name": "stdout"
        }
      ]
    }
  ]
}